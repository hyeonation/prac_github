{
 "cells": [
  {
   "cell_type": "code",
   "execution_count": 1,
   "metadata": {},
   "outputs": [],
   "source": [
    "# package\n",
    "import serial\n",
    "import time"
   ]
  },
  {
   "cell_type": "code",
   "execution_count": 2,
   "metadata": {},
   "outputs": [],
   "source": [
    "# variable\n",
    "com = 'COM3'\n",
    "baudrate = 921600\n",
    "timeout = 1"
   ]
  },
  {
   "cell_type": "markdown",
   "metadata": {},
   "source": [
    "# View configuration"
   ]
  },
  {
   "cell_type": "code",
   "execution_count": 3,
   "metadata": {},
   "outputs": [
    {
     "name": "stdout",
     "output_type": "stream",
     "text": [
      "b'100-0,-0.8179,0.0028,0.0067,-0.5752,21.9,-58.3,-42.1\\r\\n'\n",
      "[b'<\\r\\n', b'sem:2\\r\\n', b'ssg:4\\r\\n', b'ssa:4\\r\\n', b'lpfg:5\\r\\n', b'lpfa:5\\r\\n', b'sffa:10\\r\\n', b'sffm:10\\r\\n', b'raa_l:0.200000\\r\\n', b'raa_t:0\\r\\n', b'rha_l:0.100000\\r\\n', b'rha_t:0\\r\\n', b'agc_e:1\\r\\n', b'agc_t:0.600000\\r\\n', b'agc_d:0.500000\\r\\n', b'cmo:0\\r\\n', b'posf_sl:0.010000\\r\\n', b'posf_st:50\\r\\n', b'posf_sr:0.001000\\r\\n', b'posf_ar:0.900000\\r\\n', b'sch:100\\r\\n', b'sid:0\\r\\n', b'sled:1\\r\\n', b'>']\n"
     ]
    }
   ],
   "source": [
    "with serial.Serial(com, baudrate = baudrate, timeout=timeout) as ser:\n",
    "    \n",
    "    print(ser.readline())\n",
    "    ser.write(b'<00cfg>') \n",
    "    \n",
    "    print(ser.readlines())\n",
    "    ser.write(b'>') "
   ]
  },
  {
   "cell_type": "markdown",
   "metadata": {},
   "source": [
    "# Sensor configuration"
   ]
  },
  {
   "cell_type": "markdown",
   "metadata": {},
   "source": [
    "Angle mode & Switch"
   ]
  },
  {
   "cell_type": "code",
   "execution_count": 7,
   "metadata": {},
   "outputs": [
    {
     "name": "stdout",
     "output_type": "stream",
     "text": [
      "b'<ok>100-0,0.8890,-0.0071,0.0128,0.4575,38\\r\\n'\n",
      "b'100-0,0.8890,-0.0071,0.0128,0.4575,38\\r\\n'\n"
     ]
    }
   ],
   "source": [
    "# switch\n",
    "with serial.Serial(com, baudrate = baudrate, timeout=timeout) as ser:\n",
    "    \n",
    "    # 지자기 센서 switch\n",
    "    # 0 : off, 1 : on\n",
    "    # ser.write(b'<00sem1>')\n",
    "    \n",
    "    print(ser.readline())\n",
    "    print(ser.readline())"
   ]
  },
  {
   "cell_type": "markdown",
   "metadata": {},
   "source": [
    "Reset"
   ]
  },
  {
   "cell_type": "code",
   "execution_count": 15,
   "metadata": {},
   "outputs": [
    {
     "name": "stdout",
     "output_type": "stream",
     "text": [
      "b'<ok>'\n",
      "b'100-0,-0.1611,0.7824,-0.1265,0.5880,78\\r\\n'\n"
     ]
    }
   ],
   "source": [
    "# switch\n",
    "with serial.Serial(com, baudrate = baudrate, timeout=timeout) as ser:\n",
    "    \n",
    "    # reset sensor\n",
    "    ser.write(b'<00reset>')\n",
    "    \n",
    "    # reset position\n",
    "    # ser.write(b'<00posz>')\n",
    "    \n",
    "    print(ser.readline())\n",
    "    print(ser.readline())"
   ]
  },
  {
   "cell_type": "markdown",
   "metadata": {},
   "source": [
    "Set sensitivity"
   ]
  },
  {
   "cell_type": "code",
   "execution_count": 7,
   "metadata": {},
   "outputs": [],
   "source": [
    "with serial.Serial(com, baudrate = baudrate, timeout=timeout) as ser:\n",
    "    \n",
    "    # 자이로 센서 감도 설정\n",
    "    # 1 : 250dps, 2 : 500dps, 3 : 1000dps, 4 : 2000dps\n",
    "    # 값이 클수록 빠른 움직임 좋음, 정밀도 하락\n",
    "    # 값이 작을수록 빠른 움직임 나쁨, 정밀도 상승\n",
    "    ser.write(b'<00ssg4>')\n",
    "    \n",
    "    # set filter factor\n",
    "    # 센서 측정 범위를 벗어난 동작의 경우 발생한 오차를 다시 보정하는 속도를 결정\n",
    "    # 값이 클수록 보정 속도 증가, 정밀도 하락\n",
    "    # 값이 작을수록 보정 속도 하락, 정밀도 상승\n",
    "    # value range : 1 ~ 50 (default : 10)\n",
    "    # sff : 가속도 센서, 지자기 센서의 filter factor\n",
    "    # sffa : 가속도 센서의 filter factor\n",
    "    # sffm : 지자기 센서의 filter factor\n",
    "    # ser.write(b'<00sff10>')"
   ]
  },
  {
   "cell_type": "markdown",
   "metadata": {},
   "source": [
    "Set filter parameter"
   ]
  },
  {
   "cell_type": "code",
   "execution_count": 16,
   "metadata": {},
   "outputs": [
    {
     "name": "stdout",
     "output_type": "stream",
     "text": [
      "b'<ok>100-0,0.41,-0.57,2.76,-54.6,-10.7,-25.6\\r\\n'\n",
      "b'100-0,0.41,-0.57,2.76,-54.0,-10.1,-25.0\\r\\n'\n"
     ]
    }
   ],
   "source": [
    "with serial.Serial(com, baudrate = baudrate, timeout=timeout) as ser:\n",
    "    \n",
    "    # set low pass filter\n",
    "    # 진동 환경 보정\n",
    "    # 0: none, 1: 5Hz, 2: 10Hz, 3: 20Hz, 4: 41Hz\n",
    "    # 5: 92Hz(default), 6: 184Hz, 7: 250Hz\n",
    "    \n",
    "    # Robust Attitude Algorithm Timeout(RAA)\n",
    "    # 센서 가감속에 따른 자세(roll, pitch) 오차 보정\n",
    "    # 설정된 시간 이상으로 오차 발생 시 자세를 재 보정\n",
    "    # 설정 단위는 ms(0 ~ 4,000,000,000), default:10000, 10초\n",
    "    # 최대 가/감속 시간보다 크게 설정하는 것이 좋음\n",
    "    # 0으로 설정하면 기능 off\n",
    "    ser.write(b'<00raa_t0>')\n",
    "    \n",
    "    # Robust Heading Algorithm Timeout(RHA)\n",
    "    # 센서 사용 환경의 자기장 간섭에 따른 heading(yaw) 오차 보정 알고리즘.\n",
    "    # 설정된 시간 이상으로 오차 발생 시 자세를 재 보정\n",
    "    # 설정 단위는 ms(0 ~ 4,000,000,000), default:10000\n",
    "    # 최대 자기장 간섭 시간보다 크게 설정하는 것이 좋음\n",
    "    # 0으로 설정하면 기능 off\n",
    "    # ser.write(b'<00rha_t0>')\n",
    "    \n",
    "    print(ser.readline())\n",
    "    print(ser.readline())"
   ]
  },
  {
   "cell_type": "markdown",
   "metadata": {},
   "source": [
    "Angle offset"
   ]
  },
  {
   "cell_type": "code",
   "execution_count": 34,
   "metadata": {},
   "outputs": [
    {
     "name": "stdout",
     "output_type": "stream",
     "text": [
      "b'100-0,1.48,0.82,62.24,10.5,-68.8,-30.1\\r\\n'\n",
      "b'<ok>100-0,1.48,0.82,62.23,10.5,-69.4,-30.1\\r\\n'\n"
     ]
    }
   ],
   "source": [
    "# delete offset\n",
    "with serial.Serial(com, baudrate = baudrate, timeout=timeout) as ser:\n",
    "    print(ser.readline())\n",
    "    \n",
    "    ser.write(b'<00cmco>')\n",
    "    \n",
    "    print(ser.readline())"
   ]
  },
  {
   "cell_type": "code",
   "execution_count": 35,
   "metadata": {},
   "outputs": [
    {
     "name": "stdout",
     "output_type": "stream",
     "text": [
      "b'100-0,1.48,0.83,62.24,10.5,-69.4,-29.6\\r\\n'\n",
      "b'<ok>100-0,0.00,0.01,-0.01,10.5,-68.8,-29.6\\r\\n'\n"
     ]
    }
   ],
   "source": [
    "# set offset\n",
    "with serial.Serial(com, baudrate = baudrate, timeout=timeout) as ser:\n",
    "    print(ser.readline())\n",
    "    \n",
    "    ser.write(b'<00cmo>')\n",
    "    \n",
    "    print(ser.readline())"
   ]
  },
  {
   "cell_type": "markdown",
   "metadata": {},
   "source": [
    "Calibration"
   ]
  },
  {
   "cell_type": "code",
   "execution_count": 4,
   "metadata": {
    "code_folding": [],
    "scrolled": true
   },
   "outputs": [
    {
     "name": "stdout",
     "output_type": "stream",
     "text": [
      "1\n",
      "2\n",
      "3\n",
      "4\n",
      "5\n",
      "6\n",
      "7\n",
      "8\n",
      "9\n",
      "10\n",
      "11\n",
      "12\n",
      "13\n",
      "14\n",
      "15\n",
      "16\n",
      "17\n",
      "18\n",
      "19\n",
      "20\n",
      "21\n",
      "22\n",
      "23\n",
      "24\n",
      "25\n",
      "26\n",
      "27\n",
      "28\n",
      "29\n",
      "30\n",
      "31\n",
      "32\n",
      "33\n",
      "34\n",
      "35\n",
      "36\n",
      "37\n",
      "38\n",
      "39\n",
      "40\n",
      "41\n",
      "42\n",
      "43\n",
      "44\n",
      "45\n",
      "46\n",
      "47\n",
      "48\n",
      "49\n",
      "50\n",
      "51\n",
      "52\n",
      "53\n",
      "54\n",
      "55\n",
      "56\n",
      "57\n",
      "58\n",
      "59\n",
      "60\n",
      "b'<ok>100-0,0.43,-0.40,1.46\\r\\n'\n"
     ]
    }
   ],
   "source": [
    "# mag\n",
    "# set calibration time\n",
    "calib_time = 60      # second\n",
    "\n",
    "with serial.Serial(com, baudrate = baudrate, timeout=timeout) as ser:\n",
    "    \n",
    "    # start\n",
    "    ser.write(b'<00cmf>')\n",
    "    \n",
    "    for i in range(calib_time):\n",
    "        # calibration time\n",
    "        time.sleep(1)\n",
    "        print(i+1)\n",
    "    \n",
    "    # finish\n",
    "    ser.write(b'>') \n",
    "    \n",
    "    print(ser.readline())"
   ]
  },
  {
   "cell_type": "code",
   "execution_count": 19,
   "metadata": {},
   "outputs": [
    {
     "name": "stdout",
     "output_type": "stream",
     "text": [
      "b'<ok>100-0,0.3984,-0.1714,-0.4871,-0.7580,77\\r\\n'\n",
      "b'100-0,0.3741,-0.1534,-0.5240,-0.7495,77\\r\\n'\n"
     ]
    }
   ],
   "source": [
    "# gyro, accel\n",
    "with serial.Serial(com, baudrate = baudrate, timeout=timeout) as ser:\n",
    "    \n",
    "    # calibration gyro\n",
    "    # ser.write(b'<00cg>')\n",
    "    \n",
    "    # calibration accelero simple\n",
    "    # ser.write(b'<00cas>')\n",
    "    \n",
    "    print(ser.readline())\n",
    "    print(ser.readline())"
   ]
  },
  {
   "cell_type": "code",
   "execution_count": 8,
   "metadata": {
    "scrolled": true
   },
   "outputs": [
    {
     "name": "stdout",
     "output_type": "stream",
     "text": [
      "1\n",
      "2\n",
      "3\n",
      "4\n",
      "5\n",
      "6\n",
      "7\n",
      "8\n",
      "9\n",
      "10\n",
      "11\n",
      "12\n",
      "13\n",
      "14\n",
      "15\n",
      "16\n",
      "17\n",
      "18\n",
      "19\n",
      "20\n",
      "21\n",
      "22\n",
      "23\n",
      "24\n",
      "25\n",
      "26\n",
      "27\n",
      "28\n",
      "29\n",
      "30\n",
      "31\n",
      "32\n",
      "33\n",
      "34\n",
      "35\n",
      "36\n",
      "37\n",
      "38\n",
      "39\n",
      "40\n",
      "41\n",
      "42\n",
      "43\n",
      "44\n",
      "45\n",
      "46\n",
      "47\n",
      "48\n",
      "49\n",
      "50\n",
      "51\n",
      "52\n",
      "53\n",
      "54\n",
      "55\n",
      "56\n",
      "57\n",
      "58\n",
      "59\n",
      "60\n",
      "b'<ok>100-0,-0.8204,0.1770,-0.1507,0.5222,57\\r\\n'\n"
     ]
    }
   ],
   "source": [
    "# calibration accelero free\n",
    "\n",
    "# set calibration time\n",
    "calib_time = 60      # second\n",
    "\n",
    "with serial.Serial(com, baudrate = baudrate, timeout=timeout) as ser:\n",
    "    \n",
    "    # start\n",
    "    ser.write(b'<00caf>')\n",
    "    \n",
    "    for i in range(calib_time):\n",
    "        # calibration time\n",
    "        time.sleep(1)\n",
    "        print(i+1)\n",
    "    \n",
    "    # finish\n",
    "    ser.write(b'>') \n",
    "    \n",
    "    print(ser.readline())"
   ]
  },
  {
   "cell_type": "code",
   "execution_count": 14,
   "metadata": {},
   "outputs": [
    {
     "name": "stdout",
     "output_type": "stream",
     "text": [
      "b'<ok>100-0,0.38,-0.55,-1.22,-55.2,-8.9,-24.4\\r\\n'\n",
      "b'100-0,0.39,-0.54,-1.05,-55.2,-10.1,-25.0\\r\\n'\n"
     ]
    }
   ],
   "source": [
    "# init factory\n",
    "with serial.Serial(com, baudrate = baudrate, timeout=timeout) as ser:\n",
    "    \n",
    "    # calibration gyro\n",
    "    ser.write(b'<00lf>')\n",
    "    \n",
    "    print(ser.readline())\n",
    "    print(ser.readline())"
   ]
  },
  {
   "cell_type": "markdown",
   "metadata": {},
   "source": [
    "# Receiver configuration"
   ]
  },
  {
   "cell_type": "code",
   "execution_count": 35,
   "metadata": {},
   "outputs": [
    {
     "name": "stdout",
     "output_type": "stream",
     "text": [
      "b'<ok>100-0,-0.7534,0.0052,0.0035,-0.6574,8.8,-62.5,-46.0,40.0\\r\\n'\n"
     ]
    }
   ],
   "source": [
    "# set configuration of receiver\n",
    "with serial.Serial(com, baudrate = baudrate, timeout=timeout) as ser:\n",
    "    \n",
    "    # set baudrate\n",
    "    # 1:9600, 2:19200, 3:38400, 4:57600\n",
    "    # 5:115200, 6:230400, 7:460800, 8 : 921600\n",
    "    # ser.write(b'<sb3>')\n",
    "    \n",
    "    # set output rate\n",
    "    # 1 ~ 1000 ms\n",
    "    ser.write(b'<sor100>')\n",
    "    \n",
    "    print(ser.readline())"
   ]
  },
  {
   "cell_type": "code",
   "execution_count": 42,
   "metadata": {},
   "outputs": [
    {
     "name": "stdout",
     "output_type": "stream",
     "text": [
      "b'<ok>100-0,-0.7274,0.0051,0.0032,-0.6861,4.0,-60.1,-45.4,40.6,88\\r\\n'\n",
      "b'<ok>100-0,-0.7274,0.0050,0.0031,-0.6861,4.6,-61.3,-46.0,40.6\\r\\n'\n"
     ]
    }
   ],
   "source": [
    "# output 출력 여부\n",
    "with serial.Serial(com, baudrate = baudrate, timeout=timeout) as ser:\n",
    "    \n",
    "    # euler angle : <sof1>\n",
    "    # quaternion : <sof2>\n",
    "    # ser.write(b'<sof2>')\n",
    "    \n",
    "    # set output gyro\n",
    "    # 0: no(default), 1 : yes\n",
    "    # ser.write(b'<sog0>')\n",
    "    \n",
    "    # set output accelero\n",
    "    # 0: none(default), 1: 중력성분 포함된 가속도, \n",
    "    # 2: 중력성분 제거된 local 가속도, 3: 중력성분 제거된 global 가속도\n",
    "    # 4: local 속도, 5: global 속도\n",
    "    # ser.write(b'<soa1>')\n",
    "    \n",
    "    # distance output switch\n",
    "    # 거리 데이터 출력 여부\n",
    "    # 0:none(default), 1:local distance, 2:global distance\n",
    "    # local distance : standard from xyz of sensor. global distance : standard from the (four) cardinal points.\n",
    "    # ser.write(b'<sod0>')\n",
    "    \n",
    "    # set output mag\n",
    "    # 지자기 데이터 출력 여부\n",
    "    # 0: no(default), 1 : yes\n",
    "    # ser.write(b'<som1>')\n",
    "    \n",
    "    # 온도 출력 여부\n",
    "    # 0: no(default), 1 : yes\n",
    "    ser.write(b'<sot1>')\n",
    "    print(ser.readline())\n",
    "    \n",
    "    # 배터리 잔량 출력 여부\n",
    "    # 0: no, 1 : yes(default)\n",
    "    # 단위 : %\n",
    "    ser.write(b'<sob0>')\n",
    "    \n",
    "    print(ser.readline())"
   ]
  },
  {
   "cell_type": "markdown",
   "metadata": {},
   "source": [
    "# Test"
   ]
  },
  {
   "cell_type": "code",
   "execution_count": 30,
   "metadata": {},
   "outputs": [
    {
     "name": "stdout",
     "output_type": "stream",
     "text": [
      "b'100-0,-0.7691,0.0046,0.0038,-0.6390,12.4,-60.1,-43.7,39.4\\r\\n'\n",
      "0.15500879287719727\n",
      "b'100-0,-0.7691,0.0047,0.0038,-0.6390,13.6,-59.5,-43.7,39.4\\r\\n'\n",
      "0.2540144920349121\n",
      "b'100-0,-0.7691,0.0047,0.0038,-0.6390,12.4,-60.7,-44.3,39.4\\r\\n'\n",
      "0.356020450592041\n",
      "b'100-0,-0.7691,0.0047,0.0038,-0.6390,11.2,-59.5,-44.3,39.4\\r\\n'\n",
      "0.4540259838104248\n"
     ]
    }
   ],
   "source": [
    "# ser.readline() 실행하는 데 약 50ms 가 걸린다.\n",
    "start_time = time.time()\n",
    "with serial.Serial(com, baudrate = baudrate, timeout=timeout) as ser:\n",
    "    \n",
    "    print(ser.readline())\n",
    "    print(time.time() - start_time)\n",
    "    print(ser.readline())\n",
    "    print(time.time() - start_time)\n",
    "    print(ser.readline())\n",
    "    print(time.time() - start_time)\n",
    "    print(ser.readline())\n",
    "    print(time.time() - start_time)"
   ]
  },
  {
   "cell_type": "code",
   "execution_count": 43,
   "metadata": {
    "scrolled": true
   },
   "outputs": [
    {
     "name": "stdout",
     "output_type": "stream",
     "text": [
      "b''\n",
      "b''\n",
      "b''\n"
     ]
    },
    {
     "ename": "KeyboardInterrupt",
     "evalue": "",
     "output_type": "error",
     "traceback": [
      "\u001b[1;31m---------------------------------------------------------------------------\u001b[0m",
      "\u001b[1;31mKeyboardInterrupt\u001b[0m                         Traceback (most recent call last)",
      "\u001b[1;32m<ipython-input-43-074aaed001e3>\u001b[0m in \u001b[0;36m<module>\u001b[1;34m\u001b[0m\n\u001b[0;32m      2\u001b[0m \u001b[1;33m\u001b[0m\u001b[0m\n\u001b[0;32m      3\u001b[0m     \u001b[1;32mwhile\u001b[0m \u001b[1;32mTrue\u001b[0m\u001b[1;33m:\u001b[0m\u001b[1;33m\u001b[0m\u001b[1;33m\u001b[0m\u001b[0m\n\u001b[1;32m----> 4\u001b[1;33m         \u001b[0mprint\u001b[0m\u001b[1;33m(\u001b[0m\u001b[0mser\u001b[0m\u001b[1;33m.\u001b[0m\u001b[0mreadline\u001b[0m\u001b[1;33m(\u001b[0m\u001b[1;33m)\u001b[0m\u001b[1;33m)\u001b[0m\u001b[1;33m\u001b[0m\u001b[1;33m\u001b[0m\u001b[0m\n\u001b[0m",
      "\u001b[1;32mc:\\python\\python37\\lib\\site-packages\\serial\\serialwin32.py\u001b[0m in \u001b[0;36mread\u001b[1;34m(self, size)\u001b[0m\n\u001b[0;32m    288\u001b[0m                     \u001b[0mctypes\u001b[0m\u001b[1;33m.\u001b[0m\u001b[0mbyref\u001b[0m\u001b[1;33m(\u001b[0m\u001b[0mself\u001b[0m\u001b[1;33m.\u001b[0m\u001b[0m_overlapped_read\u001b[0m\u001b[1;33m)\u001b[0m\u001b[1;33m,\u001b[0m\u001b[1;33m\u001b[0m\u001b[1;33m\u001b[0m\u001b[0m\n\u001b[0;32m    289\u001b[0m                     \u001b[0mctypes\u001b[0m\u001b[1;33m.\u001b[0m\u001b[0mbyref\u001b[0m\u001b[1;33m(\u001b[0m\u001b[0mrc\u001b[0m\u001b[1;33m)\u001b[0m\u001b[1;33m,\u001b[0m\u001b[1;33m\u001b[0m\u001b[1;33m\u001b[0m\u001b[0m\n\u001b[1;32m--> 290\u001b[1;33m                     True)\n\u001b[0m\u001b[0;32m    291\u001b[0m                 \u001b[1;32mif\u001b[0m \u001b[1;32mnot\u001b[0m \u001b[0mresult_ok\u001b[0m\u001b[1;33m:\u001b[0m\u001b[1;33m\u001b[0m\u001b[1;33m\u001b[0m\u001b[0m\n\u001b[0;32m    292\u001b[0m                     \u001b[1;32mif\u001b[0m \u001b[0mwin32\u001b[0m\u001b[1;33m.\u001b[0m\u001b[0mGetLastError\u001b[0m\u001b[1;33m(\u001b[0m\u001b[1;33m)\u001b[0m \u001b[1;33m!=\u001b[0m \u001b[0mwin32\u001b[0m\u001b[1;33m.\u001b[0m\u001b[0mERROR_OPERATION_ABORTED\u001b[0m\u001b[1;33m:\u001b[0m\u001b[1;33m\u001b[0m\u001b[1;33m\u001b[0m\u001b[0m\n",
      "\u001b[1;31mKeyboardInterrupt\u001b[0m: "
     ]
    }
   ],
   "source": [
    "with serial.Serial(com, baudrate = baudrate, timeout=2) as ser:\n",
    "    \n",
    "    while True:\n",
    "        print(ser.readline())"
   ]
  },
  {
   "cell_type": "code",
   "execution_count": null,
   "metadata": {},
   "outputs": [],
   "source": []
  }
 ],
 "metadata": {
  "kernelspec": {
   "display_name": "Python 3",
   "language": "python",
   "name": "python3"
  },
  "language_info": {
   "codemirror_mode": {
    "name": "ipython",
    "version": 3
   },
   "file_extension": ".py",
   "mimetype": "text/x-python",
   "name": "python",
   "nbconvert_exporter": "python",
   "pygments_lexer": "ipython3",
   "version": "3.7.2"
  },
  "varInspector": {
   "cols": {
    "lenName": 16,
    "lenType": 16,
    "lenVar": 40
   },
   "kernels_config": {
    "python": {
     "delete_cmd_postfix": "",
     "delete_cmd_prefix": "del ",
     "library": "var_list.py",
     "varRefreshCmd": "print(var_dic_list())"
    },
    "r": {
     "delete_cmd_postfix": ") ",
     "delete_cmd_prefix": "rm(",
     "library": "var_list.r",
     "varRefreshCmd": "cat(var_dic_list()) "
    }
   },
   "types_to_exclude": [
    "module",
    "function",
    "builtin_function_or_method",
    "instance",
    "_Feature"
   ],
   "window_display": false
  }
 },
 "nbformat": 4,
 "nbformat_minor": 2
}
