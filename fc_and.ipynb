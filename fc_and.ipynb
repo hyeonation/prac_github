{
 "cells": [
  {
   "cell_type": "markdown",
   "metadata": {},
   "source": [
    "# AND 학습"
   ]
  },
  {
   "attachments": {},
   "cell_type": "markdown",
   "metadata": {},
   "source": [
    "![AND1.png](./img/AND1.png)"
   ]
  },
  {
   "attachments": {},
   "cell_type": "markdown",
   "metadata": {},
   "source": [
    "![AND2.png](./img/AND2.png)"
   ]
  },
  {
   "cell_type": "markdown",
   "metadata": {},
   "source": [
    "# 패키지"
   ]
  },
  {
   "cell_type": "code",
   "execution_count": 2,
   "metadata": {
    "ExecuteTime": {
     "end_time": "2018-12-28T08:52:37.960032Z",
     "start_time": "2018-12-28T08:52:36.110964Z"
    }
   },
   "outputs": [],
   "source": [
    "import numpy as np\n",
    "import matplotlib.pyplot as plt"
   ]
  },
  {
   "cell_type": "markdown",
   "metadata": {},
   "source": [
    "# 변수 정의"
   ]
  },
  {
   "cell_type": "code",
   "execution_count": 3,
   "metadata": {
    "ExecuteTime": {
     "end_time": "2018-12-28T08:55:54.680534Z",
     "start_time": "2018-12-28T08:55:54.673556Z"
    }
   },
   "outputs": [],
   "source": [
    "# 입력\n",
    "x_input = np.array([[0, 0, 1],\n",
    "                    [0, 1, 1],\n",
    "                    [1, 0, 1],\n",
    "                    [1, 1, 1]])\n",
    "\n",
    "# 교사 데이터\n",
    "T = np.array([0, 0, 0, 1])\n",
    "\n",
    "# data set 크기\n",
    "n = len(T)\n",
    "\n",
    "# learning_rate\n",
    "alpha = 0.1"
   ]
  },
  {
   "cell_type": "code",
   "execution_count": 4,
   "metadata": {
    "ExecuteTime": {
     "end_time": "2018-12-28T09:18:39.476777Z",
     "start_time": "2018-12-28T09:18:39.468802Z"
    }
   },
   "outputs": [],
   "source": [
    "# random한 초기 학습 weight 생성\n",
    "W = np.random.randn(3,1)\n",
    "\n",
    "# 학습 전 weight 저장\n",
    "W0 = W"
   ]
  },
  {
   "cell_type": "code",
   "execution_count": 5,
   "metadata": {
    "ExecuteTime": {
     "end_time": "2018-12-28T09:18:41.193194Z",
     "start_time": "2018-12-28T09:18:41.188206Z"
    }
   },
   "outputs": [],
   "source": [
    "# 학습 반복 횟수\n",
    "repeat_time = 10000\n",
    "\n",
    "# error 저장 list\n",
    "error_list =[]"
   ]
  },
  {
   "cell_type": "code",
   "execution_count": 6,
   "metadata": {
    "ExecuteTime": {
     "end_time": "2018-12-28T09:18:42.755455Z",
     "start_time": "2018-12-28T09:18:41.664124Z"
    }
   },
   "outputs": [],
   "source": [
    "# 학습\n",
    "for q in range(repeat_time):\n",
    "    \n",
    "    del_W = np.zeros(W.shape)\n",
    "    error = 0\n",
    "    \n",
    "    for p in range(n):\n",
    "        \n",
    "        X = np.matmul(x_input[p].reshape(1,3), W)\n",
    "        O = 1/(1 + np.exp(-X))\n",
    "        \n",
    "        error += 0.5*(O - T[p])**2\n",
    "        del_W += ((O - T[p])*(O*(1 - O)) * x_input[p]).reshape(W.shape)\n",
    "        \n",
    "    W -= alpha * del_W\n",
    "    error_list.append(error[0,0])\n",
    "    \n"
   ]
  },
  {
   "cell_type": "code",
   "execution_count": 7,
   "metadata": {
    "ExecuteTime": {
     "end_time": "2018-12-28T09:18:43.067380Z",
     "start_time": "2018-12-28T09:18:42.787122Z"
    }
   },
   "outputs": [
    {
     "data": {
      "image/png": "[encoded data removed]",
      "text/plain": [
       "<Figure size 432x288 with 1 Axes>"
      ]
     },
     "metadata": {},
     "output_type": "display_data"
    }
   ],
   "source": [
    "plt.plot(error_list)\n",
    "plt.show()"
   ]
  },
  {
   "cell_type": "code",
   "execution_count": 11,
   "metadata": {},
   "outputs": [
    {
     "data": {
      "image/png": "[encoded data removed]",
      "text/plain": [
       "<Figure size 432x288 with 1 Axes>"
      ]
     },
     "metadata": {},
     "output_type": "display_data"
    }
   ],
   "source": [
    "# 그래프 plot\n",
    "\n",
    "kx = np.linspace(-1,2, 100)\n",
    "ky = -W[0,0]/W[1,0]*kx - W[2,0]/W[1,0]\n",
    "\n",
    "plt.plot(kx, ky)\n",
    "\n",
    "for i in range(n):\n",
    "    plt.plot(x_input[i,0], x_input[i,1], 'ob')\n",
    "\n",
    "plt.grid()\n",
    "plt.show()"
   ]
  },
  {
   "cell_type": "code",
   "execution_count": null,
   "metadata": {
    "collapsed": true
   },
   "outputs": [],
   "source": []
  },
  {
   "cell_type": "code",
   "execution_count": null,
   "metadata": {
    "collapsed": true
   },
   "outputs": [],
   "source": []
  }
 ],
 "metadata": {
  "kernelspec": {
   "display_name": "Python 3",
   "language": "python",
   "name": "python3"
  },
  "language_info": {
   "codemirror_mode": {
    "name": "ipython",
    "version": 3
   },
   "file_extension": ".py",
   "mimetype": "text/x-python",
   "name": "python",
   "nbconvert_exporter": "python",
   "pygments_lexer": "ipython3",
   "version": "3.6.1"
  },
  "varInspector": {
   "cols": {
    "lenName": 16,
    "lenType": 16,
    "lenVar": 40
   },
   "kernels_config": {
    "python": {
     "delete_cmd_postfix": "",
     "delete_cmd_prefix": "del ",
     "library": "var_list.py",
     "varRefreshCmd": "print(var_dic_list())"
    },
    "r": {
     "delete_cmd_postfix": ") ",
     "delete_cmd_prefix": "rm(",
     "library": "var_list.r",
     "varRefreshCmd": "cat(var_dic_list()) "
    }
   },
   "types_to_exclude": [
    "module",
    "function",
    "builtin_function_or_method",
    "instance",
    "_Feature"
   ],
   "window_display": false
  }
 },
 "nbformat": 4,
 "nbformat_minor": 2
}
