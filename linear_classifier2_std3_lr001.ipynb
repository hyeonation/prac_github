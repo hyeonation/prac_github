{
 "cells": [
  {
   "cell_type": "markdown",
   "metadata": {},
   "source": [
    "# 초기 설정"
   ]
  },
  {
   "cell_type": "code",
   "execution_count": 1,
   "metadata": {
    "collapsed": true
   },
   "outputs": [],
   "source": [
    "batch_size = 50\n",
    "one_looptime = int(55000/batch_size)\n",
    "learning_rate = 0.01\n",
    "\n",
    "name = 'std3_batch50_lr001'\n",
    "save_path = '/data/lc_'"
   ]
  },
  {
   "cell_type": "code",
   "execution_count": 2,
   "metadata": {
    "collapsed": true
   },
   "outputs": [],
   "source": [
    "learn_count = one_looptime*100"
   ]
  },
  {
   "cell_type": "markdown",
   "metadata": {},
   "source": [
    "# setting"
   ]
  },
  {
   "cell_type": "code",
   "execution_count": 3,
   "metadata": {},
   "outputs": [
    {
     "name": "stdout",
     "output_type": "stream",
     "text": [
      "WARNING:tensorflow:From C:\\Users\\hyeon\\AppData\\Local\\Continuum\\miniconda3\\lib\\site-packages\\tensorflow\\contrib\\learn\\python\\learn\\datasets\\base.py:198: retry (from tensorflow.contrib.learn.python.learn.datasets.base) is deprecated and will be removed in a future version.\n",
      "Instructions for updating:\n",
      "Use the retry module or similar alternatives.\n"
     ]
    }
   ],
   "source": [
    "# 패키지 import\n",
    "import tensorflow as tf\n",
    "import time\n",
    "from tensorflow.examples.tutorials.mnist import input_data\n",
    "import matplotlib.pyplot as plt\n",
    "#%matplotlib inline\n",
    "plt.rcParams['figure.figsize'] = (10.0, 4.0)\n",
    "plt.rcParams['image.cmap'] = 'Greys'\n",
    "\n",
    "import numpy as np\n",
    "np.set_printoptions(suppress=True)\n",
    "np.set_printoptions(precision=2)"
   ]
  },
  {
   "cell_type": "code",
   "execution_count": 4,
   "metadata": {
    "scrolled": true
   },
   "outputs": [
    {
     "name": "stdout",
     "output_type": "stream",
     "text": [
      "WARNING:tensorflow:From <ipython-input-4-fdbf74b6b16b>:2: read_data_sets (from tensorflow.contrib.learn.python.learn.datasets.mnist) is deprecated and will be removed in a future version.\n",
      "Instructions for updating:\n",
      "Please use alternatives such as official/mnist/dataset.py from tensorflow/models.\n",
      "WARNING:tensorflow:From C:\\Users\\hyeon\\AppData\\Local\\Continuum\\miniconda3\\lib\\site-packages\\tensorflow\\contrib\\learn\\python\\learn\\datasets\\mnist.py:260: maybe_download (from tensorflow.contrib.learn.python.learn.datasets.base) is deprecated and will be removed in a future version.\n",
      "Instructions for updating:\n",
      "Please write your own downloading logic.\n",
      "WARNING:tensorflow:From C:\\Users\\hyeon\\AppData\\Local\\Continuum\\miniconda3\\lib\\site-packages\\tensorflow\\contrib\\learn\\python\\learn\\datasets\\mnist.py:262: extract_images (from tensorflow.contrib.learn.python.learn.datasets.mnist) is deprecated and will be removed in a future version.\n",
      "Instructions for updating:\n",
      "Please use tf.data to implement this functionality.\n",
      "Extracting MNIST_data/train-images-idx3-ubyte.gz\n",
      "WARNING:tensorflow:From C:\\Users\\hyeon\\AppData\\Local\\Continuum\\miniconda3\\lib\\site-packages\\tensorflow\\contrib\\learn\\python\\learn\\datasets\\mnist.py:267: extract_labels (from tensorflow.contrib.learn.python.learn.datasets.mnist) is deprecated and will be removed in a future version.\n",
      "Instructions for updating:\n",
      "Please use tf.data to implement this functionality.\n",
      "Extracting MNIST_data/train-labels-idx1-ubyte.gz\n",
      "WARNING:tensorflow:From C:\\Users\\hyeon\\AppData\\Local\\Continuum\\miniconda3\\lib\\site-packages\\tensorflow\\contrib\\learn\\python\\learn\\datasets\\mnist.py:110: dense_to_one_hot (from tensorflow.contrib.learn.python.learn.datasets.mnist) is deprecated and will be removed in a future version.\n",
      "Instructions for updating:\n",
      "Please use tf.one_hot on tensors.\n",
      "Extracting MNIST_data/t10k-images-idx3-ubyte.gz\n",
      "Extracting MNIST_data/t10k-labels-idx1-ubyte.gz\n",
      "WARNING:tensorflow:From C:\\Users\\hyeon\\AppData\\Local\\Continuum\\miniconda3\\lib\\site-packages\\tensorflow\\contrib\\learn\\python\\learn\\datasets\\mnist.py:290: DataSet.__init__ (from tensorflow.contrib.learn.python.learn.datasets.mnist) is deprecated and will be removed in a future version.\n",
      "Instructions for updating:\n",
      "Please use alternatives such as official/mnist/dataset.py from tensorflow/models.\n"
     ]
    }
   ],
   "source": [
    "# data 불러오기\n",
    "mnist = input_data.read_data_sets(\"MNIST_data/\", one_hot=True)"
   ]
  },
  {
   "cell_type": "code",
   "execution_count": 5,
   "metadata": {
    "scrolled": true
   },
   "outputs": [
    {
     "name": "stdout",
     "output_type": "stream",
     "text": [
      "(55000, 784)\n",
      "(55000, 10)\n",
      "(10000, 784)\n",
      "(10000, 10)\n",
      "[0. 0. 0. 1. 0. 0. 0. 0. 0. 0.]\n"
     ]
    },
    {
     "data": {
      "text/plain": [
       "<matplotlib.image.AxesImage at 0x1bbd80bd978>"
      ]
     },
     "execution_count": 5,
     "metadata": {},
     "output_type": "execute_result"
    },
    {
     "data": {
      "image/png": "[encoded data removed]",
      "text/plain": [
       "<Figure size 432x288 with 1 Axes>"
      ]
     },
     "metadata": {},
     "output_type": "display_data"
    }
   ],
   "source": [
    "# data 확인하기\n",
    "print (mnist.train.images.shape)\n",
    "print (mnist.train.labels.shape)\n",
    "\n",
    "print (mnist.test.images.shape)\n",
    "print (mnist.test.labels.shape)\n",
    "\n",
    "idx = 1\n",
    "example_image = mnist.train.images[idx]\n",
    "example_image_reshaped = example_image.reshape((28, 28)) # Can't render a line of 784 numbers\n",
    "#len(example_image_reshaped.reshape((28*28)))\n",
    "example_label = mnist.train.labels[idx]\n",
    "print(example_label)\n",
    "plt.imshow(example_image_reshaped)"
   ]
  },
  {
   "cell_type": "code",
   "execution_count": 6,
   "metadata": {
    "collapsed": true
   },
   "outputs": [],
   "source": [
    "# 변수 생성\n",
    "img_size = 28\n",
    "img_size_2 = img_size*img_size\n",
    "\n",
    "params = ['W_fc', 'b_fc', 'W_fc_ing', 'b_fc_ing', 'W_fc0', 'b_fc0', 'error']\n",
    "data_params = {'W_fc' : 2*np.random.rand(img_size_2,10) - 1,\n",
    "               'b_fc' : 2*np.random.rand(1,10) - 1,\n",
    "               'W_fc_ing' : [],\n",
    "               'b_fc_ing' : [],\n",
    "               'error' : []}\n",
    "\n",
    "W_fc_ing = []\n",
    "b_fc_ing = []\n",
    "\n",
    "\n",
    "# 에러 list 생성 \n",
    "error_list = []\n",
    "\n",
    "datasize = len(mnist.train.labels)"
   ]
  },
  {
   "cell_type": "markdown",
   "metadata": {},
   "source": [
    "# 불러오기(선택 사항)"
   ]
  },
  {
   "cell_type": "markdown",
   "metadata": {},
   "source": [
    "# 데이터를 불러올 때만 사용\n",
    "params = ['W_fc', 'b_fc', 'W_fc_ing', 'b_fc_ing', 'error']\n",
    "data_params = {}\n",
    "\n",
    "for i in range(len(params)):\n",
    "    data_params.update({params[i]: \n",
    "                        np.load(save_path+ name +'_' + params[i] + '.npy')})\n",
    "\n",
    "# list로 바꾸기\n",
    "data_params['error'] = list(data_params['error'])\n",
    "W_fc_ing = []\n",
    "b_fc_ing = []\n",
    "\n",
    "for i in range(len(data_params['W_fc_ing'])):\n",
    "    W_fc_ing.append(data_params['W_fc_ing'][i])\n",
    "    b_fc_ing.append(data_params['b_fc_ing'][i])\n",
    "\n",
    "data_params['W_fc_ing'] = W_fc_ing\n",
    "data_params['b_fc_ing'] = b_fc_ing"
   ]
  },
  {
   "cell_type": "markdown",
   "metadata": {},
   "source": [
    "# 학습"
   ]
  },
  {
   "cell_type": "code",
   "execution_count": 8,
   "metadata": {
    "scrolled": true
   },
   "outputs": [
    {
     "name": "stdout",
     "output_type": "stream",
     "text": [
      "loop    1\t Error : 0.136\t accuracy : 0.780\n",
      "loop    2\t Error : 0.136\t accuracy : 0.780\n",
      "loop    3\t Error : 0.136\t accuracy : 0.780\n",
      "loop    4\t Error : 0.136\t accuracy : 0.780\n",
      "loop    5\t Error : 0.136\t accuracy : 0.780\n",
      "loop    6\t Error : 0.136\t accuracy : 0.780\n",
      "loop    7\t Error : 0.136\t accuracy : 0.780\n",
      "loop    8\t Error : 0.136\t accuracy : 0.780\n",
      "loop    9\t Error : 0.136\t accuracy : 0.780\n",
      "loop   10\t Error : 0.136\t accuracy : 0.780\n",
      "loop   11\t Error : 0.136\t accuracy : 0.780\n",
      "loop   12\t Error : 0.136\t accuracy : 0.780\n",
      "loop   13\t Error : 0.136\t accuracy : 0.780\n",
      "loop   14\t Error : 0.136\t accuracy : 0.780\n",
      "loop   15\t Error : 0.136\t accuracy : 0.780\n",
      "loop   16\t Error : 0.136\t accuracy : 0.780\n",
      "loop   17\t Error : 0.136\t accuracy : 0.780\n",
      "loop   18\t Error : 0.136\t accuracy : 0.780\n",
      "loop   19\t Error : 0.136\t accuracy : 0.780\n",
      "loop   20\t Error : 0.136\t accuracy : 0.780\n",
      "loop   21\t Error : 0.136\t accuracy : 0.780\n",
      "loop   22\t Error : 0.136\t accuracy : 0.780\n",
      "loop   23\t Error : 0.136\t accuracy : 0.780\n",
      "loop   24\t Error : 0.136\t accuracy : 0.780\n",
      "loop   25\t Error : 0.136\t accuracy : 0.780\n",
      "loop   26\t Error : 0.136\t accuracy : 0.780\n",
      "loop   27\t Error : 0.136\t accuracy : 0.780\n",
      "loop   28\t Error : 0.136\t accuracy : 0.780\n",
      "loop   29\t Error : 0.136\t accuracy : 0.780\n",
      "loop   30\t Error : 0.136\t accuracy : 0.780\n",
      "loop   31\t Error : 0.136\t accuracy : 0.780\n",
      "loop   32\t Error : 0.136\t accuracy : 0.780\n",
      "loop   33\t Error : 0.136\t accuracy : 0.780\n",
      "loop   34\t Error : 0.136\t accuracy : 0.780\n",
      "loop   35\t Error : 0.136\t accuracy : 0.780\n",
      "loop   36\t Error : 0.136\t accuracy : 0.780\n",
      "loop   37\t Error : 0.136\t accuracy : 0.780\n",
      "loop   38\t Error : 0.136\t accuracy : 0.780\n",
      "loop   39\t Error : 0.136\t accuracy : 0.780\n",
      "loop   40\t Error : 0.136\t accuracy : 0.780\n",
      "loop   41\t Error : 0.136\t accuracy : 0.780\n",
      "loop   42\t Error : 0.136\t accuracy : 0.780\n",
      "loop   43\t Error : 0.136\t accuracy : 0.780\n",
      "loop   44\t Error : 0.136\t accuracy : 0.780\n",
      "loop   45\t Error : 0.136\t accuracy : 0.780\n",
      "loop   46\t Error : 0.136\t accuracy : 0.780\n",
      "loop   47\t Error : 0.136\t accuracy : 0.780\n",
      "loop   48\t Error : 0.136\t accuracy : 0.780\n",
      "loop   49\t Error : 0.136\t accuracy : 0.780\n",
      "loop   50\t Error : 0.136\t accuracy : 0.780\n",
      "loop   51\t Error : 0.136\t accuracy : 0.780\n",
      "loop   52\t Error : 0.136\t accuracy : 0.780\n",
      "loop   53\t Error : 0.136\t accuracy : 0.780\n",
      "loop   54\t Error : 0.136\t accuracy : 0.780\n",
      "loop   55\t Error : 0.136\t accuracy : 0.780\n",
      "loop   56\t Error : 0.136\t accuracy : 0.780\n",
      "loop   57\t Error : 0.136\t accuracy : 0.780\n",
      "loop   58\t Error : 0.136\t accuracy : 0.780\n",
      "loop   59\t Error : 0.136\t accuracy : 0.780\n",
      "loop   60\t Error : 0.136\t accuracy : 0.780\n",
      "loop   61\t Error : 0.136\t accuracy : 0.780\n",
      "loop   62\t Error : 0.136\t accuracy : 0.780\n",
      "loop   63\t Error : 0.136\t accuracy : 0.780\n",
      "loop   64\t Error : 0.136\t accuracy : 0.780\n",
      "loop   65\t Error : 0.136\t accuracy : 0.780\n",
      "loop   66\t Error : 0.136\t accuracy : 0.780\n",
      "loop   67\t Error : 0.136\t accuracy : 0.780\n",
      "loop   68\t Error : 0.136\t accuracy : 0.780\n",
      "loop   69\t Error : 0.136\t accuracy : 0.780\n",
      "loop   70\t Error : 0.136\t accuracy : 0.780\n",
      "loop   71\t Error : 0.136\t accuracy : 0.780\n",
      "loop   72\t Error : 0.136\t accuracy : 0.780\n",
      "loop   73\t Error : 0.136\t accuracy : 0.780\n",
      "loop   74\t Error : 0.136\t accuracy : 0.780\n",
      "loop   75\t Error : 0.136\t accuracy : 0.780\n",
      "loop   76\t Error : 0.136\t accuracy : 0.780\n",
      "loop   77\t Error : 0.136\t accuracy : 0.780\n",
      "loop   78\t Error : 0.136\t accuracy : 0.780\n",
      "loop   79\t Error : 0.136\t accuracy : 0.780\n",
      "loop   80\t Error : 0.136\t accuracy : 0.780\n",
      "loop   81\t Error : 0.136\t accuracy : 0.780\n",
      "loop   82\t Error : 0.136\t accuracy : 0.780\n",
      "loop   83\t Error : 0.136\t accuracy : 0.780\n",
      "loop   84\t Error : 0.136\t accuracy : 0.780\n",
      "loop   85\t Error : 0.136\t accuracy : 0.780\n",
      "loop   86\t Error : 0.136\t accuracy : 0.780\n",
      "loop   87\t Error : 0.136\t accuracy : 0.780\n",
      "loop   88\t Error : 0.136\t accuracy : 0.780\n",
      "loop   89\t Error : 0.136\t accuracy : 0.780\n",
      "loop   90\t Error : 0.136\t accuracy : 0.780\n",
      "loop   91\t Error : 0.136\t accuracy : 0.780\n",
      "loop   92\t Error : 0.136\t accuracy : 0.780\n",
      "loop   93\t Error : 0.136\t accuracy : 0.780\n",
      "loop   94\t Error : 0.136\t accuracy : 0.780\n",
      "loop   95\t Error : 0.136\t accuracy : 0.780\n",
      "loop   96\t Error : 0.136\t accuracy : 0.780\n",
      "loop   97\t Error : 0.136\t accuracy : 0.780\n",
      "loop   98\t Error : 0.136\t accuracy : 0.780\n",
      "loop   99\t Error : 0.136\t accuracy : 0.780\n",
      "loop  100\t Error : 0.136\t accuracy : 0.780\n",
      "5분 41초\n"
     ]
    }
   ],
   "source": [
    "# 학습 \n",
    "start = time.time()\n",
    "for n in range(learn_count):\n",
    "    nn = batch_size * n\n",
    "    error = 0\n",
    "    accuracy = 0\n",
    "    del_W_fc = np.zeros(data_params['W_fc'].shape)\n",
    "    del_b_fc = np.zeros(data_params['b_fc'].shape)\n",
    "    \n",
    "    for q in range(batch_size):\n",
    "        q = (q+nn) % datasize\n",
    "        X_input = mnist.train.images[q].reshape(1,img_size_2)\n",
    "        X_teach = mnist.train.labels[q].reshape(data_params['b_fc'].shape)\n",
    "        \n",
    "        # Input -> output\n",
    "        X_output = np.matmul(X_input, data_params['W_fc']) + data_params['b_fc']\n",
    "        X_sigmoid = 1/(np.exp(-X_output) + 1)\n",
    "        \n",
    "        # output -> input\n",
    "        accuracy += np.argmax(X_sigmoid) == np.argmax(X_teach)\n",
    "        \n",
    "        del_error = (X_sigmoid - X_teach)\n",
    "        error += 0.5*np.sum(del_error*del_error)\n",
    "        \n",
    "        del_output = del_error*(X_sigmoid*(1-X_sigmoid))\n",
    "        del_W_fc += np.transpose(X_input) * del_output\n",
    "        del_b_fc += del_output\n",
    "        \n",
    "    data_params['W_fc'] -= learning_rate * del_W_fc/batch_size\n",
    "    data_params['b_fc'] -= learning_rate * del_output/batch_size\n",
    "        \n",
    "    error = error/batch_size\n",
    "    data_params['error'].append(error)\n",
    "    \n",
    "    if n%one_looptime == 0:\n",
    "        data_params['W_fc_ing'].append(data_params['W_fc']*1)\n",
    "        data_params['b_fc_ing'].append(data_params['b_fc']*1)\n",
    "        print(\"loop {0:4d}\\t Error : {1:.3f}\\t accuracy : {2:.3f}\".format(n//one_looptime + 1, error, accuracy/batch_size))\n",
    "        \n",
    "    time.sleep(0.001)\n",
    "    \n",
    "tt = time.time() - start\n",
    "print(\"{0:.0f}분 {1:.0f}초\".format(tt//60, tt%60))"
   ]
  },
  {
   "cell_type": "code",
   "execution_count": 9,
   "metadata": {
    "collapsed": true
   },
   "outputs": [],
   "source": [
    "# 데이터 저장\n",
    "# list도 자동으로 array 저장됨\n",
    "for ii in data_params.keys():\n",
    "    np.save(save_path+ name +'_' + ii + '.npy', data_params[ii])\n"
   ]
  },
  {
   "cell_type": "markdown",
   "metadata": {},
   "source": [
    "# error 출력"
   ]
  },
  {
   "cell_type": "code",
   "execution_count": 10,
   "metadata": {
    "scrolled": false
   },
   "outputs": [
    {
     "data": {
      "text/plain": [
       "Text(0,0.5,'error')"
      ]
     },
     "execution_count": 10,
     "metadata": {},
     "output_type": "execute_result"
    },
    {
     "data": {
      "image/png": "[encoded data removed]",
      "text/plain": [
       "<Figure size 432x288 with 1 Axes>"
      ]
     },
     "metadata": {},
     "output_type": "display_data"
    }
   ],
   "source": [
    "# error 출력\n",
    "# plt.ylim(ymin=0, ymax=1)\n",
    "plt.plot(data_params['error'])\n",
    "plt.xlabel('repeat times')\n",
    "plt.ylabel('error')"
   ]
  },
  {
   "cell_type": "code",
   "execution_count": 11,
   "metadata": {},
   "outputs": [
    {
     "data": {
      "text/plain": [
       "4070000"
      ]
     },
     "execution_count": 11,
     "metadata": {},
     "output_type": "execute_result"
    }
   ],
   "source": [
    "len(data_params['error'])"
   ]
  },
  {
   "cell_type": "code",
   "execution_count": 12,
   "metadata": {
    "scrolled": true
   },
   "outputs": [
    {
     "data": {
      "image/png": "[encoded data removed]",
      "text/plain": [
       "<Figure size 432x288 with 1 Axes>"
      ]
     },
     "metadata": {},
     "output_type": "display_data"
    }
   ],
   "source": [
    "# 평균 취해서 plot\n",
    "# 전체 plot\n",
    "part = one_looptime\n",
    "\n",
    "error_list = np.array(data_params['error'])\n",
    "error_list_part = []\n",
    "for ip in range(int(len(data_params['error'])/part)):\n",
    "    error_list_part.append(np.average(data_params['error'][ip*part : (ip+1)*part]))\n",
    "    \n",
    "plt.plot(error_list_part)\n",
    "plt.xlim(xmin=0)\n",
    "plt.ylim(ymin=0, ymax=0.5)\n",
    "plt.xlabel('repeat times')\n",
    "plt.ylabel('error')\n",
    "\n",
    "error_list = list(error_list)"
   ]
  },
  {
   "cell_type": "markdown",
   "metadata": {},
   "source": [
    "# accuracy check"
   ]
  },
  {
   "cell_type": "code",
   "execution_count": 13,
   "metadata": {},
   "outputs": [
    {
     "name": "stdout",
     "output_type": "stream",
     "text": [
      "0.8396\n"
     ]
    }
   ],
   "source": [
    "# test. accuracy check\n",
    "accuracy_calc = np.zeros((len(mnist.test.images)))\n",
    "test_num = 10000\n",
    "not_correct = []\n",
    "correct = []\n",
    "for q in range(test_num):\n",
    "    #q=101\n",
    "    X_input = mnist.test.images[q].reshape(1,img_size_2)\n",
    "    X_teach = mnist.test.labels[q].reshape(data_params['b_fc'].shape)\n",
    "\n",
    "    # Input -> output\n",
    "    X_output = np.matmul(X_input, data_params['W_fc']) + data_params['b_fc']\n",
    "    X_sigmoid = 1/(np.exp(-X_output) + 1)\n",
    "    \n",
    "    corr = np.argmax(X_sigmoid) == np.argmax(X_teach)\n",
    "    accuracy_calc[q] = corr\n",
    "    if corr:\n",
    "        correct.append(q)\n",
    "    else:\n",
    "        not_correct.append(q)\n",
    "        \n",
    "accuracy = np.average(accuracy_calc[0:test_num])\n",
    "print(accuracy)"
   ]
  },
  {
   "cell_type": "code",
   "execution_count": 14,
   "metadata": {},
   "outputs": [
    {
     "name": "stdout",
     "output_type": "stream",
     "text": [
      "try\n"
     ]
    }
   ],
   "source": [
    "# accuracy ing\n",
    "ing_accuracy_list = []\n",
    "ing_not_correct_idx = []\n",
    "\n",
    "try:\n",
    "    ing_accuracy_list = np.load(save_path + name +'_ing_accuracy_list.npy')\n",
    "    ing_not_correct_idx1 = np.load(save_path + name +'_ing_not_correct_idx.npy')\n",
    "    \n",
    "    ing_accuracy_list = list(ing_accuracy_list)\n",
    "    for i in range(len(ing_not_correct_idx1)):\n",
    "        ing_not_correct_idx.append([])\n",
    "        ing_not_correct_idx[i] = ing_not_correct_idx1[i]\n",
    "        \n",
    "    print('try')\n",
    "    \n",
    "except:\n",
    "    ing_accuracy_list = []\n",
    "    ing_not_correct_idx = []\n",
    "    print('except')"
   ]
  },
  {
   "cell_type": "code",
   "execution_count": 15,
   "metadata": {},
   "outputs": [
    {
     "name": "stdout",
     "output_type": "stream",
     "text": [
      "0분 0초\taccuracy : 0.8396\n",
      "0분 13초\n",
      "complete\n"
     ]
    }
   ],
   "source": [
    "# test. accuracy check\n",
    "accuracy_calc = np.zeros((len(mnist.test.images)))\n",
    "accum_num = len(ing_accuracy_list)\n",
    "   \n",
    "start = time.time()\n",
    "for ii in range(len(data_params['W_fc_ing']) - accum_num):\n",
    "    ii += accum_num\n",
    "    ing_not_correct_idx.append([])\n",
    "    \n",
    "    for q in range(len(accuracy_calc)):\n",
    "        X_input = mnist.test.images[q].reshape(1,img_size_2)\n",
    "        X_teach = mnist.test.labels[q].reshape(data_params['b_fc'].shape)\n",
    "        \n",
    "        # Input -> output\n",
    "        X_output = np.matmul(X_input, data_params['W_fc_ing'][ii]) + data_params['b_fc_ing'][ii]\n",
    "        X_sigmoid = 1/(np.exp(-X_output) + 1)\n",
    "\n",
    "        corr = np.argmax(X_sigmoid) == np.argmax(X_teach)\n",
    "        accuracy_calc[q] = corr\n",
    "        \n",
    "        if not corr:\n",
    "            ing_not_correct_idx[ii].append(q)\n",
    "\n",
    "    accuracy = np.average(accuracy_calc)\n",
    "    ing_accuracy_list.append(accuracy)\n",
    "    \n",
    "    if ii%100==0:\n",
    "        tt = time.time() - start\n",
    "        print(\"{0:.0f}분 {1:.0f}초\\taccuracy : {2:.4f}\".format(tt//60, tt%60, accuracy))\n",
    "\n",
    "np.save(save_path + name +'_ing_accuracy_list.npy', ing_accuracy_list)\n",
    "np.save(save_path + name +'_ing_not_correct_idx.npy', ing_not_correct_idx)\n",
    "\n",
    "tt = time.time() - start\n",
    "print(\"{0:.0f}분 {1:.0f}초\".format(tt//60, tt%60))\n",
    "print('complete')"
   ]
  },
  {
   "cell_type": "code",
   "execution_count": 16,
   "metadata": {},
   "outputs": [
    {
     "data": {
      "text/plain": [
       "3700"
      ]
     },
     "execution_count": 16,
     "metadata": {},
     "output_type": "execute_result"
    }
   ],
   "source": [
    "len(ing_accuracy_list)"
   ]
  },
  {
   "cell_type": "code",
   "execution_count": null,
   "metadata": {
    "collapsed": true
   },
   "outputs": [],
   "source": []
  }
 ],
 "metadata": {
  "kernelspec": {
   "display_name": "Python 3",
   "language": "python",
   "name": "python3"
  },
  "language_info": {
   "codemirror_mode": {
    "name": "ipython",
    "version": 3
   },
   "file_extension": ".py",
   "mimetype": "text/x-python",
   "name": "python",
   "nbconvert_exporter": "python",
   "pygments_lexer": "ipython3",
   "version": "3.6.2"
  },
  "varInspector": {
   "cols": {
    "lenName": 16,
    "lenType": 16,
    "lenVar": 40
   },
   "kernels_config": {
    "python": {
     "delete_cmd_postfix": "",
     "delete_cmd_prefix": "del ",
     "library": "var_list.py",
     "varRefreshCmd": "print(var_dic_list())"
    },
    "r": {
     "delete_cmd_postfix": ") ",
     "delete_cmd_prefix": "rm(",
     "library": "var_list.r",
     "varRefreshCmd": "cat(var_dic_list()) "
    }
   },
   "position": {
    "height": "305px",
    "left": "1375.45px",
    "right": "20px",
    "top": "120px",
    "width": "346px"
   },
   "types_to_exclude": [
    "module",
    "function",
    "builtin_function_or_method",
    "instance",
    "_Feature"
   ],
   "window_display": false
  }
 },
 "nbformat": 4,
 "nbformat_minor": 2
}
